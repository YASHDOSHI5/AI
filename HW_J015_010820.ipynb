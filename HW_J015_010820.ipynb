{
  "nbformat": 4,
  "nbformat_minor": 0,
  "metadata": {
    "colab": {
      "name": "HW_J015_010820.ipynb",
      "provenance": [],
      "include_colab_link": true
    },
    "kernelspec": {
      "name": "python3",
      "display_name": "Python 3"
    }
  },
  "cells": [
    {
      "cell_type": "markdown",
      "metadata": {
        "id": "view-in-github",
        "colab_type": "text"
      },
      "source": [
        "<a href=\"https://colab.research.google.com/github/YASHDOSHI5/AI/blob/master/HW_J015_010820.ipynb\" target=\"_parent\"><img src=\"https://colab.research.google.com/assets/colab-badge.svg\" alt=\"Open In Colab\"/></a>"
      ]
    },
    {
      "cell_type": "markdown",
      "metadata": {
        "id": "9MEnFxl3AL7R",
        "colab_type": "text"
      },
      "source": [
        "# Validating Postal Codes\n"
      ]
    },
    {
      "cell_type": "markdown",
      "metadata": {
        "id": "y1MKht0OHy_H",
        "colab_type": "text"
      },
      "source": [
        "Your task is to provide two regular expressions regex_integer_in_range and regex_alternating_repetitive_digit_pair. \n",
        "\n",
        "Where:\n",
        "\n",
        "regex_integer_in_range should match only integers range from  to  inclusive\n",
        "\n",
        "regex_alternating_repetitive_digit_pair should find alternating repetitive digits pairs in a given string."
      ]
    },
    {
      "cell_type": "code",
      "metadata": {
        "id": "8vkxKC7iAGuc",
        "colab_type": "code",
        "colab": {
          "base_uri": "https://localhost:8080/",
          "height": 51
        },
        "outputId": "c49152d7-87a1-4528-c7b6-439510e76349"
      },
      "source": [
        "regex_integer_in_range = r\"^[1-9][0-9]{5}$\"\t# Do not delete 'r'.\n",
        "regex_alternating_repetitive_digit_pair = r\"(\\d)(?=\\d\\1)\"\t# Do not delete 'r'.\n",
        "\n",
        "\n",
        "import re\n",
        "P = input()\n",
        "\n",
        "print (bool(re.match(regex_integer_in_range, P)) \n",
        "and len(re.findall(regex_alternating_repetitive_digit_pair, P)) < 2)"
      ],
      "execution_count": null,
      "outputs": [
        {
          "output_type": "stream",
          "text": [
            "121426\n",
            "True\n"
          ],
          "name": "stdout"
        }
      ]
    },
    {
      "cell_type": "code",
      "metadata": {
        "id": "MN8N57IuH4BG",
        "colab_type": "code",
        "colab": {
          "base_uri": "https://localhost:8080/",
          "height": 52
        },
        "outputId": "da229deb-ebbb-4595-ee6d-c8233210be83"
      },
      "source": [
        "regex_integer_in_range = r\"^[1-9][0-9]{5}$\"\t# Do not delete 'r'.\n",
        "regex_alternating_repetitive_digit_pair = r\"(\\d)(?=\\d\\1)\"\t# Do not delete 'r'.\n",
        "\n",
        "\n",
        "import re\n",
        "P = input()\n",
        "\n",
        "print (bool(re.match(regex_integer_in_range, P)) \n",
        "and len(re.findall(regex_alternating_repetitive_digit_pair, P)) < 2)"
      ],
      "execution_count": null,
      "outputs": [
        {
          "output_type": "stream",
          "text": [
            "552523\n",
            "False\n"
          ],
          "name": "stdout"
        }
      ]
    },
    {
      "cell_type": "markdown",
      "metadata": {
        "id": "4sdG653xAMQb",
        "colab_type": "text"
      },
      "source": [
        "# The Coin Change Problem"
      ]
    },
    {
      "cell_type": "code",
      "metadata": {
        "id": "sI8qp-oCBCvm",
        "colab_type": "code",
        "colab": {
          "base_uri": "https://localhost:8080/",
          "height": 70
        },
        "outputId": "9f22995f-6133-4f9d-9ae7-81bb4d9972a0"
      },
      "source": [
        "a = input()\n",
        "b = input()\n",
        "\n",
        "c = int(a.split()[0])\n",
        "d = [int(x) for x in b.split()]\n",
        "\n",
        "d.sort()\n",
        "\n",
        "e = list(range(c + 1))\n",
        "f = len(d)\n",
        "\n",
        "h = [([1] * (c +1)) for row in range(f)]\n",
        "\n",
        "for i in range(c+1):\n",
        "  if e[i] % d[0] != 0: h[0][i] = 0\n",
        "\n",
        "for i in range(1, f):\n",
        "  for j in range(1, c + 1):\n",
        "    if e[j] < d[i]:\n",
        "      h[i][j] = h[i - 1][j]\n",
        "    else:\n",
        "      h[i][j] = h[i - 1][j] + h[i][j - d[i]]\n",
        "\n",
        "print(h[f - 1][c])\n",
        "#print(T)"
      ],
      "execution_count": null,
      "outputs": [
        {
          "output_type": "stream",
          "text": [
            "4 3\n",
            "1 2 3\n",
            "4\n"
          ],
          "name": "stdout"
        }
      ]
    },
    {
      "cell_type": "markdown",
      "metadata": {
        "id": "wILzHMnTAMUa",
        "colab_type": "text"
      },
      "source": [
        "# Sherlock and Cost"
      ]
    },
    {
      "cell_type": "code",
      "metadata": {
        "id": "0lXf3YgtBHm8",
        "colab_type": "code",
        "colab": {}
      },
      "source": [
        ""
      ],
      "execution_count": null,
      "outputs": []
    }
  ]
}