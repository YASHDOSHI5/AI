{
  "nbformat": 4,
  "nbformat_minor": 0,
  "metadata": {
    "colab": {
      "name": "HW_J015_010820",
      "provenance": [],
      "include_colab_link": true
    },
    "kernelspec": {
      "name": "python3",
      "display_name": "Python 3"
    }
  },
  "cells": [
    {
      "cell_type": "markdown",
      "metadata": {
        "id": "view-in-github",
        "colab_type": "text"
      },
      "source": [
        "<a href=\"https://colab.research.google.com/github/YASHDOSHI5/AI/blob/master/HW_J015_010820.ipynb\" target=\"_parent\"><img src=\"https://colab.research.google.com/assets/colab-badge.svg\" alt=\"Open In Colab\"/></a>"
      ]
    },
    {
      "cell_type": "markdown",
      "metadata": {
        "id": "9MEnFxl3AL7R",
        "colab_type": "text"
      },
      "source": [
        "# Validating Postal Codes\n"
      ]
    },
    {
      "cell_type": "markdown",
      "metadata": {
        "id": "y1MKht0OHy_H",
        "colab_type": "text"
      },
      "source": [
        "Your task is to provide two regular expressions regex_integer_in_range and regex_alternating_repetitive_digit_pair. \n",
        "\n",
        "Where:\n",
        "\n",
        "regex_integer_in_range should match only integers range from  to  inclusive\n",
        "\n",
        "regex_alternating_repetitive_digit_pair should find alternating repetitive digits pairs in a given string."
      ]
    },
    {
      "cell_type": "code",
      "metadata": {
        "id": "8vkxKC7iAGuc",
        "colab_type": "code",
        "colab": {
          "base_uri": "https://localhost:8080/",
          "height": 52
        },
        "outputId": "7b72ba39-cce7-4b02-eab4-cb444035003d"
      },
      "source": [
        "regex_integer_in_range = r\"^[1-9][0-9]{5}$\"\t# Do not delete 'r', to check if the number is 6 digit, the first digit can be anywhere from 1 to 9, and the next five can be between 0 to 9\n",
        "regex_alternating_repetitive_digit_pair = r\"(\\d)(?=\\d\\1)\"\t# Do not delete 'r', takes a dgit and compares with the digits later, adds 1 for every repetation \n",
        "\n",
        "\n",
        "import re\n",
        "P = input()\n",
        "\n",
        "print (bool(re.match(regex_integer_in_range, P)) and len(re.findall(regex_alternating_repetitive_digit_pair, P)) < 2)"
      ],
      "execution_count": null,
      "outputs": [
        {
          "output_type": "stream",
          "text": [
            "121426\n",
            "True\n"
          ],
          "name": "stdout"
        }
      ]
    },
    {
      "cell_type": "code",
      "metadata": {
        "id": "MN8N57IuH4BG",
        "colab_type": "code",
        "colab": {
          "base_uri": "https://localhost:8080/",
          "height": 52
        },
        "outputId": "da229deb-ebbb-4595-ee6d-c8233210be83"
      },
      "source": [
        "regex_integer_in_range = r\"^[1-9][0-9]{5}$\"\t# Do not delete 'r', to check if the number is 6 digit, the first digit can be anywhere from 1 to 9, and the next five can be between 0 to 9\n",
        "regex_alternating_repetitive_digit_pair = r\"(\\d)(?=\\d\\1)\"\t# Do not delete 'r', takes a dgit and compares with the digits later, adds 1 for every repetation \n",
        "\n",
        "\n",
        "import re\n",
        "P = input()\n",
        "\n",
        "print (bool(re.match(regex_integer_in_range, P)) and len(re.findall(regex_alternating_repetitive_digit_pair, P)) < 2)"
      ],
      "execution_count": null,
      "outputs": [
        {
          "output_type": "stream",
          "text": [
            "552523\n",
            "False\n"
          ],
          "name": "stdout"
        }
      ]
    },
    {
      "cell_type": "markdown",
      "metadata": {
        "id": "4sdG653xAMQb",
        "colab_type": "text"
      },
      "source": [
        "# The Coin Change Problem"
      ]
    },
    {
      "cell_type": "markdown",
      "metadata": {
        "id": "TvxtFCeoq_dV",
        "colab_type": "text"
      },
      "source": [
        "You are working at the cash counter at a fun-fair, and you have different types of coins available to you in infinite quantities. The value of each coin is already given. Can you determine the number of ways of making change for a particular number of units using the given types of coins?\n",
        "\n",
        "For example, if you have 4 types of coins, and the value of each type is given as 8,3,2,1 respectively, you can make change for 3 units in three ways:{1,1,1} ,{1,2} and {3} ."
      ]
    },
    {
      "cell_type": "code",
      "metadata": {
        "id": "sI8qp-oCBCvm",
        "colab_type": "code",
        "colab": {
          "base_uri": "https://localhost:8080/",
          "height": 70
        },
        "outputId": "072be8a9-138f-4690-ec2b-fd98e4d76aa9"
      },
      "source": [
        "a = input() # the first number is the ne whose change we have to find the second is the integer size\n",
        "b = input() #the array of integers\n",
        "\n",
        "c = int(a.split()[0]) #picks the first number from a, the ones whose change we have to find out\n",
        "d = [int(x) for x in b.split()] #splits the numbers from b in to a list\n",
        "\n",
        "d.sort() #sorts in ascending order\n",
        "\n",
        "e = list(range(c + 1)) #creates a list till the c, eg: if c = 5, e will be [0, 1, 2, 3, 4, 5]\n",
        "f = len(d) #the length of the array/list of integers\n",
        "\n",
        "h = [([1] * (c +1)) for row in range(f)] #creates multiple lists to compare the combinations\n",
        "\n",
        "for i in range(c+1):\n",
        "  if e[i] % d[0] != 0: h[0][i] = 0\n",
        "\n",
        "#checks the number of possible combinations \n",
        "for i in range(1, f):\n",
        "  for j in range(1, c + 1):\n",
        "    if e[j] < d[i]:\n",
        "      h[i][j] = h[i - 1][j]\n",
        "    else:\n",
        "      h[i][j] = h[i - 1][j] + h[i][j - d[i]]\n",
        "\n",
        "print(h[f - 1][c]) #prints the possible no of combinations on how the change can be added"
      ],
      "execution_count": null,
      "outputs": [
        {
          "output_type": "stream",
          "text": [
            "4 3\n",
            "1 2 3\n",
            "4\n"
          ],
          "name": "stdout"
        }
      ]
    },
    {
      "cell_type": "code",
      "metadata": {
        "id": "hkYD4jRIqZer",
        "colab_type": "code",
        "colab": {}
      },
      "source": [
        "#for inputs a = 4 3 , b = 1 2 3\n",
        "# h becomes a a list of [[1, 1, 1, 1, 1], [1, 1, 1, 1, 1], [1, 1, 1, 1, 1]]\n",
        "# and after running in the for loops the values change by swaping them with the values in d(the sorted list)"
      ],
      "execution_count": null,
      "outputs": []
    },
    {
      "cell_type": "markdown",
      "metadata": {
        "id": "wILzHMnTAMUa",
        "colab_type": "text"
      },
      "source": [
        "# Sherlock and Cost"
      ]
    },
    {
      "cell_type": "code",
      "metadata": {
        "id": "0lXf3YgtBHm8",
        "colab_type": "code",
        "colab": {
          "base_uri": "https://localhost:8080/",
          "height": 141
        },
        "outputId": "890d4532-c172-4b98-b5de-65412be2a06f"
      },
      "source": [
        "a = int(input()) \n",
        "\n",
        "\"\"\"\n",
        "The first line contains the integer , the number of test cases.\n",
        "Each of the next  pairs of lines is a test case where:\n",
        "- The first line contains an integer , the length of \n",
        "- The next line contains  space-separated integers \n",
        "\"\"\"\n",
        "\n",
        "for i in range(a): #makes a range till 2nd input line\n",
        "    b = int(input()) # accepts inputs separated by space\n",
        "    c = [int(x) for x in input().strip().split()] #creates a list of inputs\n",
        "    d = [0]*(b) #create a list of zeros the size of b\n",
        "    e = [0]*(b) #create a list of zeros the size of b\n",
        "    d[0] = 0\n",
        "    e[0] = 0\n",
        "    for j in range(1,b):\n",
        "        d[j] = max(abs(1-1)+d[j-1],abs(1-c[j-1])+e[j-1]) #return the max value after subtracting the values from the next input for odd terms\n",
        "        e[j] = max(abs(c[j]-1)+d[j-1],abs(c[j]-c[j-1])+e[j-1]) #return the max value after subtracting the values from the next input for even terms\n",
        "    print(max(e[b-1],d[b-1]))\n"
      ],
      "execution_count": null,
      "outputs": [
        {
          "output_type": "stream",
          "text": [
            "2\n",
            "5\n",
            "3 15 4 12 10\n",
            "50\n",
            "3\n",
            "4 7 9\n",
            "12\n"
          ],
          "name": "stdout"
        }
      ]
    },
    {
      "cell_type": "code",
      "metadata": {
        "id": "up9QBluKBSUT",
        "colab_type": "code",
        "colab": {}
      },
      "source": [
        "# input a\n",
        "# line 1 = 1\n",
        "#line 2 = 5\n",
        "# i in range(5)\n"
      ],
      "execution_count": null,
      "outputs": []
    }
  ]
}