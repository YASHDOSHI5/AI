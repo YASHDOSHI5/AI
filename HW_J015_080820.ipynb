{
  "nbformat": 4,
  "nbformat_minor": 0,
  "metadata": {
    "colab": {
      "name": "HW_J015_080820.ipynb",
      "provenance": [],
      "collapsed_sections": [],
      "include_colab_link": true
    },
    "kernelspec": {
      "name": "python3",
      "display_name": "Python 3"
    }
  },
  "cells": [
    {
      "cell_type": "markdown",
      "metadata": {
        "id": "view-in-github",
        "colab_type": "text"
      },
      "source": [
        "<a href=\"https://colab.research.google.com/github/YASHDOSHI5/AI/blob/master/HW_J015_080820.ipynb\" target=\"_parent\"><img src=\"https://colab.research.google.com/assets/colab-badge.svg\" alt=\"Open In Colab\"/></a>"
      ]
    },
    {
      "cell_type": "code",
      "metadata": {
        "id": "Eb43jWKedavQ",
        "colab_type": "code",
        "colab": {}
      },
      "source": [
        "from collections import defaultdict\n",
        "\n",
        "def combinations(n):\n",
        "    for i in range(1, n+1):\n",
        "        for j in range(i, n+1):\n",
        "            yield (i,j)\n",
        "\n",
        "for i in range(int(input())):\n",
        "    memo = {}\n",
        "    n, m = map(int, input().split(' '))\n",
        "\n",
        "    nodes = list(zip(map(int, input().split(' ')), map(int, input().split(' '))))\n",
        "    parents = dict(tuple(map(int, input().split(' ')[::-1])) for i in range(n-1))\n",
        "    children = defaultdict(list)\n",
        "    for x in parents:\n",
        "        children[parents[x]].append(x)\n",
        "    root = [x for x in children if x not in parents]\n",
        "    parents[root[0]] = None\n",
        "\n",
        "    def depth(n):\n",
        "        if n in memo:\n",
        "            return memo[n]\n",
        "        if n not in parents:\n",
        "            memo[n] = 1\n",
        "            return memo[n]\n",
        "        memo[n] = 1+depth(parents[n])\n",
        "        return memo[n]\n",
        "\n",
        "    def ks_value(i, j):\n",
        "        if i == j:\n",
        "            node = nodes[i-1]\n",
        "            return -1 if node[0] > m else node[1]\n",
        "        w = 0\n",
        "        v = 0\n",
        "        while depth(i) > depth(j):\n",
        "            node = nodes[i-1]\n",
        "            w += node[0]\n",
        "            v += node[1]\n",
        "            i = parents[i]\n",
        "            if w > m:\n",
        "                return -1\n",
        "        while depth(i) < depth(j):\n",
        "            node = nodes[j-1]\n",
        "            w += node[0]\n",
        "            v += node[1]\n",
        "            j = parents[j]\n",
        "            if w > m:\n",
        "                return -1\n",
        "        while i != j:\n",
        "            node = nodes[i-1]\n",
        "            w += node[0]\n",
        "            v += node[1]\n",
        "            i = parents[i]\n",
        "            node = nodes[j-1]\n",
        "            w += node[0]\n",
        "            v += node[1]\n",
        "            j = parents[j]\n",
        "            if w > m:\n",
        "                return -1\n",
        "\n",
        "        node = nodes[i-1]\n",
        "        w += node[0]\n",
        "        v += node[1]\n",
        "        return -1 if w > m else v\n",
        "\n",
        "    mx = -1\n",
        "    for i, j in combinations(n):\n",
        "        mx = max(mx, ks_value(i, j))\n",
        "    print (mx)"
      ],
      "execution_count": null,
      "outputs": []
    },
    {
      "cell_type": "code",
      "metadata": {
        "id": "Bz3ckv1QdbbM",
        "colab_type": "code",
        "colab": {}
      },
      "source": [
        ""
      ],
      "execution_count": null,
      "outputs": []
    }
  ]
}